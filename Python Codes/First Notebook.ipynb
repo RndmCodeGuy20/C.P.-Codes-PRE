{
 "cells": [
  {
   "cell_type": "code",
   "execution_count": 2,
   "metadata": {},
   "outputs": [
    {
     "name": "stdout",
     "output_type": "stream",
     "text": [
      "Factorial of the input number is\n",
      "1\n",
      "2\n",
      "6\n"
     ]
    },
    {
     "data": {
      "text/plain": "6"
     },
     "execution_count": 2,
     "metadata": {},
     "output_type": "execute_result"
    }
   ],
   "source": [
    "def factorial(k):\r\n",
    "    if (k>0):\r\n",
    "        result = k * factorial(k-1)\r\n",
    "        print(result)\r\n",
    "    else:\r\n",
    "        result=1\r\n",
    "    return result\r\n",
    "\r\n",
    "print(\"Factorial of the input number is\")\r\n",
    "factorial(3)"
   ]
  }
 ],
 "metadata": {
  "kernelspec": {
   "display_name": "Python 3.9.5 64-bit (windows store)",
   "name": "python395jvsc74a57bd0e24e4b8d0a1750bdff821d105b1e652fe8ae91a575d58c31974b71230d8c21ad"
  },
  "language_info": {
   "codemirror_mode": {
    "name": "ipython",
    "version": 3
   },
   "file_extension": ".py",
   "mimetype": "text/x-python",
   "name": "python",
   "nbconvert_exporter": "python",
   "pygments_lexer": "ipython3",
   "version": "3.9.5"
  },
  "metadata": {
   "interpreter": {
    "hash": "e24e4b8d0a1750bdff821d105b1e652fe8ae91a575d58c31974b71230d8c21ad"
   }
  },
  "orig_nbformat": 2
 },
 "nbformat": 4,
 "nbformat_minor": 2
}